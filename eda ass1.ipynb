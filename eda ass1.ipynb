{
 "cells": [
  {
   "cell_type": "markdown",
   "id": "3454877d-04b8-4d47-93b5-78478a91a51c",
   "metadata": {},
   "source": [
    "# Q1. What are the key features of the wine quality data set? Discuss the importance of each feature in predicting the quality of wine."
   ]
  },
  {
   "cell_type": "markdown",
   "id": "c7b0b485-752b-4a93-9475-3a7d3dc4bdfb",
   "metadata": {},
   "source": [
    "Fixed Acidity: Fixed acidity refers to the concentration of non-volatile acids in the wine, primarily tartaric acid. It contributes to the wine's overall structure and plays a role in determining its taste and stability. Wines with appropriate acidity levels are often considered balanced.\n",
    "\n",
    "Volatile Acidity: Volatile acidity measures the concentration of volatile acids, mainly acetic acid, in the wine. Too much volatile acidity can lead to a vinegar-like taste, negatively affecting wine quality.\n",
    "\n",
    "Citric Acid: Citric acid is a weak organic acid found in small quantities in wine. It can enhance the freshness and citrusy notes of white wines. Its presence can positively influence wine quality, especially in certain styles.\n",
    "\n",
    "Residual Sugar: Residual sugar refers to the amount of unfermented sugar in the wine. It plays a crucial role in determining the wine's sweetness level, with sweeter wines often being perceived as higher quality in certain contexts.\n",
    "\n",
    "Chlorides: Chloride concentration in wine can affect its taste and overall balance. Too much chloride can make the wine taste salty or briny, which is generally undesirable.\n",
    "\n",
    "Free Sulfur Dioxide: Sulfur dioxide is used in winemaking as a preservative and anti-oxidant. The level of free sulfur dioxide can impact a wine's shelf-life and its susceptibility to spoilage.\n",
    "\n",
    "Total Sulfur Dioxide: Total sulfur dioxide includes both free and bound sulfur dioxide. It is crucial for monitoring the wine's stability and preventing spoilage.\n",
    "\n",
    "Density: Density is a measure of the wine's mass per unit volume. It can provide information about the wine's alcohol content and sweetness when considered alongside alcohol content and residual sugar.\n",
    "\n",
    "pH: pH measures the acidity or alkalinity of the wine. It affects the wine's taste, color, and stability. A balanced pH is essential for a wine to be considered of high quality."
   ]
  },
  {
   "cell_type": "markdown",
   "id": "983de6bb-c9d2-49ed-8333-f3aec23238fb",
   "metadata": {},
   "source": [
    "# Q2. How did you handle missing data in the wine quality data set during the feature engineering process? Discuss the advantages and disadvantages of different imputation techniques."
   ]
  },
  {
   "cell_type": "markdown",
   "id": "06ef55af-be68-4b60-a54b-f9466c3cc49f",
   "metadata": {},
   "source": [
    "Removing Rows with Missing Data (Listwise Deletion):\n",
    "\n",
    "Advantages:\n",
    "Simple and straightforward.\n",
    "Preserves the original data distribution.\n",
    "Disadvantages:\n",
    "May result in a significant loss of data, especially if many rows have missing values.\n",
    "Can lead to biased or less accurate models if missing data is not missing completely at random (MCAR).\n",
    "Mean, Median, or Mode Imputation:\n",
    "\n",
    "Advantages:\n",
    "Simple and quick.\n",
    "Maintains the original data size.\n",
    "Disadvantages:\n",
    "Does not consider the relationships between variables.\n",
    "Can introduce bias if missing data is not MCAR.\n",
    "Can underestimate the uncertainty in imputed values.\n",
    "Forward Fill or Backward Fill (Time-Series Data):\n",
    "\n",
    "Advantages:\n",
    "Suitable for time-series data where missing values are often consecutive observations.\n",
    "Preserves temporal order.\n",
    "Disadvantages:\n",
    "May not be appropriate for non-time-series data.\n",
    "Imputed values may not be accurate if the time series has trend or seasonality."
   ]
  },
  {
   "cell_type": "markdown",
   "id": "c4e3a080-c139-461a-9915-910829f75592",
   "metadata": {},
   "source": [
    "# Q3. What are the key factors that affect students' performance in exams? How would you go about analyzing these factors using statistical techniques?"
   ]
  },
  {
   "cell_type": "markdown",
   "id": "fa10d572-b7c9-44f1-a782-b55c0a7a06fc",
   "metadata": {},
   "source": [
    "Study Time: The amount of time a student spends studying can significantly impact their performance.\n",
    "\n",
    "Statistical Analysis: You can use regression analysis to determine if there is a correlation between study time and exam scores. A simple linear regression can help quantify the relationship.\n",
    "\n",
    "Attendance: Regular attendance in classes and lectures can be a predictor of performance.\n",
    "\n",
    "Statistical Analysis: Create a binary variable for attendance (e.g., 1 for attended, 0 for not attended) and perform logistic regression to analyze its impact on passing or failing exams.\n",
    "\n",
    "Prior GPA: A student's academic history and past performance can influence current exam scores.\n",
    "\n",
    "Statistical Analysis: Use correlation analysis to assess the relationship between prior GPA and exam scores.\n",
    "\n",
    "Preparation Methods: Different study methods and resources (e.g., textbooks, online resources, tutoring) can affect performance.\n",
    "\n",
    "Statistical Analysis: Conduct a chi-squared test or logistic regression to determine if there is an association between the choice of preparation methods and exam success.\n",
    "\n",
    "Class Size: The size of a class can impact the level of individual attention students receive.\n",
    "\n",
    "Statistical Analysis: Perform an ANOVA or regression analysis to assess whether class size has a significant effect on exam scores."
   ]
  },
  {
   "cell_type": "markdown",
   "id": "9aad5534-d91c-48d4-8b60-7ef51f6ca0bc",
   "metadata": {},
   "source": [
    "# Q4. Describe the process of feature engineering in the context of the student performance data set. How did you select and transform the variables for your model?"
   ]
  },
  {
   "cell_type": "markdown",
   "id": "e1e24dde-c9dc-4e0f-873a-19aacf806f18",
   "metadata": {},
   "source": [
    "  data checks to perform\n",
    "   \n",
    "   check missing value\n",
    "   \n",
    "   check duplication\n",
    "   \n",
    "   check data type\n",
    "   \n",
    "   check the number of unique values of each column \n",
    "   \n",
    "   check statistics of data set\n",
    "   \n",
    "   check various categories present in the different categorical column  "
   ]
  },
  {
   "cell_type": "markdown",
   "id": "22ab092f-d7ca-4c62-9206-8b89d8180567",
   "metadata": {},
   "source": [
    "# Q5. Load the wine quality data set and perform exploratory data analysis (EDA) to identify the distribution of each feature. Which feature(s) exhibit non-normality, and what transformations could be applied to these features to improve normality?"
   ]
  },
  {
   "cell_type": "code",
   "execution_count": 2,
   "id": "5c8dc641-80b3-4906-89e0-efbd3c3909f9",
   "metadata": {},
   "outputs": [],
   "source": [
    "import pandas as pd"
   ]
  },
  {
   "cell_type": "code",
   "execution_count": 5,
   "id": "65a4c5c0-14d6-445e-8dc4-9365d7ae332d",
   "metadata": {},
   "outputs": [],
   "source": [
    "df = pd.read_csv(\"winequality.csv\")"
   ]
  },
  {
   "cell_type": "code",
   "execution_count": 9,
   "id": "89360763-2683-4903-ba85-2e0d44e57ec3",
   "metadata": {},
   "outputs": [],
   "source": [
    "import matplotlib.pyplot as plt\n",
    "import warnings\n",
    "warnings.filterwarnings(\"ignore\")\n",
    "import seaborn as sns "
   ]
  },
  {
   "cell_type": "code",
   "execution_count": 10,
   "id": "9f098b22-9202-4200-b8a8-308d5710bde5",
   "metadata": {},
   "outputs": [
    {
     "data": {
      "text/plain": [
       "<AxesSubplot: ylabel='Count'>"
      ]
     },
     "execution_count": 10,
     "metadata": {},
     "output_type": "execute_result"
    },
    {
     "data": {
      "image/png": "[encoded data removed]",
      "text/plain": [
       "<Figure size 640x480 with 1 Axes>"
      ]
     },
     "metadata": {},
     "output_type": "display_data"
    }
   ],
   "source": [
    "sns.histplot(data=\"df\")"
   ]
  },
  {
   "cell_type": "code",
   "execution_count": null,
   "id": "db1e5d8c-d7f3-47a1-a1b2-323a5477b41a",
   "metadata": {},
   "outputs": [],
   "source": []
  }
 ],
 "metadata": {
  "kernelspec": {
   "display_name": "Python 3 (ipykernel)",
   "language": "python",
   "name": "python3"
  },
  "language_info": {
   "codemirror_mode": {
    "name": "ipython",
    "version": 3
   },
   "file_extension": ".py",
   "mimetype": "text/x-python",
   "name": "python",
   "nbconvert_exporter": "python",
   "pygments_lexer": "ipython3",
   "version": "3.10.8"
  }
 },
 "nbformat": 4,
 "nbformat_minor": 5
}
